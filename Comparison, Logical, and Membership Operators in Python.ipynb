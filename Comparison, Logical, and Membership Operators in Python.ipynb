{
 "cells": [
  {
   "attachments": {},
   "cell_type": "markdown",
   "metadata": {},
   "source": [
    "# Comparison Operators\n",
    "\n",
    "**Operator**    |     **Name**\n",
    "==                Equal\n",
    "\n",
    "!=                Not equal\n",
    "\n",
    "\">\"               Greater than\n",
    "\n",
    "<                 Less than\n",
    "\n",
    "\">=\"              Greater than or equal to\n",
    "\n",
    "<=                Less than or equal to\n",
    "\n"
   ]
  }
 ],
 "metadata": {
  "language_info": {
   "name": "python"
  },
  "orig_nbformat": 4
 },
 "nbformat": 4,
 "nbformat_minor": 2
}
