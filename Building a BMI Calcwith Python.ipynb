{
 "cells": [
  {
   "attachments": {},
   "cell_type": "markdown",
   "metadata": {},
   "source": [
    "# Building a BMI Calculator with Python"
   ]
  },
  {
   "cell_type": "code",
   "execution_count": 28,
   "metadata": {},
   "outputs": [
    {
     "name": "stdout",
     "output_type": "stream",
     "text": [
      "25.101869355177485\n",
      "Donald, you are overweight.\n"
     ]
    }
   ],
   "source": [
    "#Let's add a name segment to make it more customized.\n",
    "name = input(\"Please type your name here: \")\n",
    "\n",
    "#Calculate weight\n",
    "#Convert to integer first\n",
    "weight = int(input(\"Enter your weight in pounds: \"))\n",
    "\n",
    "#Calculate height\n",
    "#Convert to integer first\n",
    "height = int(input(\"Enter your height in inches: \"))\n",
    "\n",
    "#Calculate  BMI\n",
    "BMI = (weight * 703) / (height * height)\n",
    "\n",
    "#Print BMI\n",
    "print(BMI)\n",
    "\n",
    "#Using IF statements to give users who check their BMI number a feedback.\n",
    "if BMI > 0:\n",
    "    if (BMI < 18.5):\n",
    "        print(name + \", \" + \"you are underweight.\")\n",
    "    elif (BMI < 24.9):\n",
    "        print(name + \", \" + \"you are normal weight.\")\n",
    "    elif (BMI < 29.9):\n",
    "        print(name + \", \" + \"you are overweight.\")\n",
    "    elif (BMI < 34.9):\n",
    "        print(name + \", \" + \"you are obese, which is high.\")\n",
    "    elif (BMI < 39.9):\n",
    "        print(name + \", \" + \"you are severely obese, please watch it!\")\n",
    "    else:\n",
    "        print(\"you are extremely obese.\")\n",
    "else:\n",
    "    print(\"Enter valid input\")"
   ]
  }
 ],
 "metadata": {
  "kernelspec": {
   "display_name": "base",
   "language": "python",
   "name": "python3"
  },
  "language_info": {
   "codemirror_mode": {
    "name": "ipython",
    "version": 3
   },
   "file_extension": ".py",
   "mimetype": "text/x-python",
   "name": "python",
   "nbconvert_exporter": "python",
   "pygments_lexer": "ipython3",
   "version": "3.9.13"
  },
  "orig_nbformat": 4,
  "vscode": {
   "interpreter": {
    "hash": "263930470851f494f0ed2879c35b57985588df20f9e529b86e97dd5eb9ddc466"
   }
  }
 },
 "nbformat": 4,
 "nbformat_minor": 2
}
