{
 "cells": [
  {
   "attachments": {},
   "cell_type": "markdown",
   "metadata": {},
   "source": [
    "# Building a BMI Calc with Python"
   ]
  },
  {
   "cell_type": "code",
   "execution_count": 20,
   "metadata": {},
   "outputs": [
    {
     "name": "stdout",
     "output_type": "stream",
     "text": [
      "25.101869355177485\n"
     ]
    }
   ],
   "source": [
    "#Calculate weight\n",
    "#Convert to integer first\n",
    "weight = int(input(\"Enter your weight in pounds: \"))\n",
    "\n",
    "#Calculate height\n",
    "#Convert to integer first\n",
    "height = int(input(\"Enter your height in inches: \"))\n",
    "\n",
    "#Calculate  BMI\n",
    "BMI = (weight * 703) / (height * height)\n",
    "\n",
    "#Print BMI\n",
    "print(BMI)"
   ]
  },
  {
   "cell_type": "code",
   "execution_count": null,
   "metadata": {},
   "outputs": [],
   "source": [
    "#Using IF statements to give users who check their BMI number a feedback.\n",
    "if BMI > 0:\n",
    "    if (BMI < 18.5):\n",
    "        print(\"You are underweight.\")\n",
    "    elif (BMI < 24.9):\n",
    "        print(\"You are normal weight.\")\n",
    "    elif (BMI < 29.9):\n",
    "        print(\"You are overweight.\")\n",
    "    else:\n",
    "        print(\"Enter valid inputs\")\n"
   ]
  }
 ],
 "metadata": {
  "kernelspec": {
   "display_name": "base",
   "language": "python",
   "name": "python3"
  },
  "language_info": {
   "codemirror_mode": {
    "name": "ipython",
    "version": 3
   },
   "file_extension": ".py",
   "mimetype": "text/x-python",
   "name": "python",
   "nbconvert_exporter": "python",
   "pygments_lexer": "ipython3",
   "version": "3.9.13"
  },
  "orig_nbformat": 4,
  "vscode": {
   "interpreter": {
    "hash": "263930470851f494f0ed2879c35b57985588df20f9e529b86e97dd5eb9ddc466"
   }
  }
 },
 "nbformat": 4,
 "nbformat_minor": 2
}
