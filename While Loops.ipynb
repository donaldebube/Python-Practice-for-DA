{
 "cells": [
  {
   "attachments": {},
   "cell_type": "markdown",
   "metadata": {},
   "source": [
    "# While Loops\n",
    "\n",
    "The **while loop** is used to iterate over a block of code as long as the set condition is true.\n",
    "\n",
    "The difference between the **for loop** and the **while loop** is that a \n",
    "\n",
    "**for loop** is going to iterate over the entire sequence of the code block regardless of a condition. \n",
    "\n",
    "Then the **while loop** is only going to iterate over that sequence as long as the condition is met. \n",
    "\n",
    "Once the codition is not met, the code is going to **stop** and **is not going to iterate through the rest of the sequence.**"
   ]
  },
  {
   "cell_type": "code",
   "execution_count": null,
   "metadata": {},
   "outputs": [],
   "source": []
  }
 ],
 "metadata": {
  "language_info": {
   "name": "python"
  },
  "orig_nbformat": 4
 },
 "nbformat": 4,
 "nbformat_minor": 2
}
