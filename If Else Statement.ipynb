{
 "cells": [
  {
   "attachments": {},
   "cell_type": "markdown",
   "metadata": {},
   "source": [
    "# IF - ELIF - ELSE STATEMENT\n",
    "\n",
    "**Note:** You can have only **1 IF and Else Statement**, but you can have **numerous ELIF statements.**\n",
    "\n",
    "**Examples Using Comparison Operators:**"
   ]
  },
  {
   "cell_type": "code",
   "execution_count": 1,
   "metadata": {},
   "outputs": [
    {
     "name": "stdout",
     "output_type": "stream",
     "text": [
      "It worked\n"
     ]
    }
   ],
   "source": [
    "# If statement example\n",
    "if 25 > 10:\n",
    "    print('It worked')\n",
    "#else:\n",
    "    #print(\"It didn't work\")\n"
   ]
  },
  {
   "cell_type": "code",
   "execution_count": 2,
   "metadata": {},
   "outputs": [
    {
     "name": "stdout",
     "output_type": "stream",
     "text": [
      "It didn't work.\n"
     ]
    }
   ],
   "source": [
    "# If Else Statement example\n",
    "if 25 < 10:\n",
    "    print('It worked!')\n",
    "else:\n",
    "    print(\"It didn't work.\")    "
   ]
  },
  {
   "cell_type": "code",
   "execution_count": 3,
   "metadata": {},
   "outputs": [
    {
     "name": "stdout",
     "output_type": "stream",
     "text": [
      "elif 3 worked\n"
     ]
    }
   ],
   "source": [
    "#Elif Statement example\n",
    "if 25 < 10:\n",
    "    print ('It worked!')\n",
    "elif 25 < 20:\n",
    "    print('elif 1 worked')\n",
    "elif 25 < 21:\n",
    "    print('elif 2 worked')\n",
    "elif 25 < 40:\n",
    "    print('elif 3 worked')\n",
    "elif 25 < 50:\n",
    "    print('elif 4 worked')\n",
    "else:\n",
    "    print(\"It didn't work...\")"
   ]
  },
  {
   "attachments": {},
   "cell_type": "markdown",
   "metadata": {},
   "source": [
    "**Example Using Logical Operators:**"
   ]
  },
  {
   "cell_type": "code",
   "execution_count": 5,
   "metadata": {},
   "outputs": [
    {
     "name": "stdout",
     "output_type": "stream",
     "text": [
      "elif 1 worked\n"
     ]
    }
   ],
   "source": [
    "if 25 < 10 or (1 > 90): \n",
    "    print ('It worked!')\n",
    "elif 25 < 20 or (1<3):\n",
    "    print('elif 1 worked')\n",
    "elif 25 < 21:\n",
    "    print('elif 2 worked')\n",
    "elif 25 < 40:\n",
    "    print('elif 3 worked')\n",
    "elif 25 < 50:\n",
    "    print('elif 4 worked')\n",
    "else:\n",
    "    print(\"It didn't work...\")"
   ]
  },
  {
   "attachments": {},
   "cell_type": "markdown",
   "metadata": {},
   "source": [
    "**Nested IF Statement Example**"
   ]
  },
  {
   "cell_type": "code",
   "execution_count": 7,
   "metadata": {},
   "outputs": [
    {
     "name": "stdout",
     "output_type": "stream",
     "text": [
      "It worked!\n",
      "This nested if statement worked!\n"
     ]
    }
   ],
   "source": [
    "if 25 < 10 or (1 < 90): \n",
    "    print ('It worked!')\n",
    "    if 10 > 5:\n",
    "        print(\"This nested if statement worked!\")\n",
    "elif 25 < 20 or (1<3):\n",
    "    print('elif 1 worked')\n",
    "elif 25 < 21:\n",
    "    print('elif 2 worked')\n",
    "elif 25 < 40:\n",
    "    print('elif 3 worked')\n",
    "elif 25 < 50:\n",
    "    print('elif 4 worked')\n",
    "else:\n",
    "    print(\"It didn't work...\")"
   ]
  }
 ],
 "metadata": {
  "kernelspec": {
   "display_name": "base",
   "language": "python",
   "name": "python3"
  },
  "language_info": {
   "codemirror_mode": {
    "name": "ipython",
    "version": 3
   },
   "file_extension": ".py",
   "mimetype": "text/x-python",
   "name": "python",
   "nbconvert_exporter": "python",
   "pygments_lexer": "ipython3",
   "version": "3.9.13 (main, Aug 25 2022, 23:51:50) [MSC v.1916 64 bit (AMD64)]"
  },
  "orig_nbformat": 4,
  "vscode": {
   "interpreter": {
    "hash": "263930470851f494f0ed2879c35b57985588df20f9e529b86e97dd5eb9ddc466"
   }
  }
 },
 "nbformat": 4,
 "nbformat_minor": 2
}
